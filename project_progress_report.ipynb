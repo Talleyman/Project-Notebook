{
 "metadata": {
  "name": "project_progress_report.ipynb"
 },
 "nbformat": 3,
 "nbformat_minor": 0,
 "worksheets": [
  {
   "cells": [
    {
     "cell_type": "heading",
     "level": 2,
     "metadata": {},
     "source": [
      "Project Progress Report Notebook"
     ]
    },
    {
     "cell_type": "heading",
     "level": 3,
     "metadata": {},
     "source": [
      "Our accomplishments:"
     ]
    },
    {
     "cell_type": "markdown",
     "metadata": {},
     "source": [
      "-Created FaST-LMM.Py version 2.02 image on Atmosphere, complete with documentation/tutorial set up on iPlant Wiki"
     ]
    },
    {
     "cell_type": "markdown",
     "metadata": {},
     "source": [
      "-Updated the original Validate program with standards/criteria for data input and renamed the program to \"Winnow\""
     ]
    },
    {
     "cell_type": "markdown",
     "metadata": {},
     "source": [
      "-Set up executables for FaST-LMM and Winnow such that both can work successfully on an HPC environment (more specifically, Stampede)"
     ]
    },
    {
     "cell_type": "markdown",
     "metadata": {},
     "source": [
      "-Updated Winnow image with Demonstrate R package to add the final step of data visualization to the Validate workflow"
     ]
    },
    {
     "cell_type": "markdown",
     "metadata": {},
     "source": [
      "Contacted developers at Microsoft Research regarding updates for FaST-LMM and greater contact with the iPlant community"
     ]
    },
    {
     "cell_type": "heading",
     "level": 3,
     "metadata": {},
     "source": [
      "Current Work:"
     ]
    },
    {
     "cell_type": "markdown",
     "metadata": {},
     "source": [
      "-Upload Winnow 0.5 as an app on Stampede"
     ]
    },
    {
     "cell_type": "markdown",
     "metadata": {},
     "source": [
      "-Change Demonstrate to be an R script rather than a traditional module/package so it can be used on Stampede without hurdles"
     ]
    },
    {
     "cell_type": "markdown",
     "metadata": {},
     "source": [
      "-Finish Simulate revisions so it will export to PED/MAP format (it exports to PED/MAP format now, but it's appearance is questionable)"
     ]
    },
    {
     "cell_type": "markdown",
     "metadata": {},
     "source": [
      "-Finish analysis of Syngenta data on Stampede"
     ]
    },
    {
     "cell_type": "heading",
     "level": 3,
     "metadata": {},
     "source": [
      "Pitfalls:"
     ]
    },
    {
     "cell_type": "markdown",
     "metadata": {},
     "source": [
      "-Issues with wrapper script(s) for Winnow. Not issues with the scripts themselves, just with ignorance of the language. As of Feb. 2nd, I've contacted Rion Dooley at TACC for assistance and he has been very helpful."
     ]
    },
    {
     "cell_type": "markdown",
     "metadata": {},
     "source": [
      "-Size of syngenta data. Though conversion to binary can save space, it would require a hefty amount of both time and memory for the conversion."
     ]
    },
    {
     "cell_type": "code",
     "collapsed": false,
     "input": [
      "-"
     ],
     "language": "python",
     "metadata": {},
     "outputs": []
    }
   ],
   "metadata": {}
  }
 ]
}